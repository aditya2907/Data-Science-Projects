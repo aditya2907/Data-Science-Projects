{
 "cells": [
  {
   "cell_type": "markdown",
   "metadata": {},
   "source": [
    "# Aditya Suryawanshi"
   ]
  },
  {
   "cell_type": "markdown",
   "metadata": {},
   "source": [
    "# LINEAR REGRESSION WITH TWO VARIABLES\n",
    "In this task, we will perform linear regression on a dataset containing the number of hours a student studies for (independent variable) and the marks that particular student scores (dependent variable). This will help us predict the marks a student is expected to score based on the number of hours he/she studies for."
   ]
  },
  {
   "cell_type": "code",
   "execution_count": 1,
   "metadata": {},
   "outputs": [],
   "source": [
    "##import libraries\n",
    "\n",
    "import pandas as pd\n",
    "import numpy as np\n",
    "import matplotlib.pyplot as plt\n",
    "%matplotlib inline"
   ]
  },
  {
   "cell_type": "code",
   "execution_count": 2,
   "metadata": {},
   "outputs": [],
   "source": [
    "def import_dataframe():\n",
    "    dataframe = pd.read_csv(\"http://bit.ly/w-data\")\n",
    "\n",
    "    x = dataframe['Hours']\n",
    "    y = dataframe['Scores']\n",
    "    \n",
    "    return x,y, dataframe"
   ]
  },
  {
   "cell_type": "code",
   "execution_count": 3,
   "metadata": {},
   "outputs": [],
   "source": [
    "def estimate_coef(dataframe, x, y):\n",
    "    # number of observations/points\n",
    "    n = len(dataframe)\n",
    "    \n",
    "    # mean of x and y vector\n",
    "    x_mean = np.mean(x)\n",
    "    y_mean = np.mean(y)\n",
    "    \n",
    "    # calculating cross-deviation and deviation about x\n",
    "    SS_xy = np.sum(y*x) - n*y_mean*x_mean\n",
    "    SS_xx = np.sum(x*x) - n*x_mean*x_mean\n",
    "    \n",
    "    # calculating regression coefficients\n",
    "    b_1 = SS_xy / SS_xx\n",
    "    b_0 = y_mean - b_1*x_mean\n",
    " \n",
    "    return (b_0, b_1)"
   ]
  },
  {
   "cell_type": "code",
   "execution_count": 4,
   "metadata": {},
   "outputs": [],
   "source": [
    "def plot_regression_line(x, y, b):\n",
    "    # plotting the actual points as scatter plot\n",
    "    plt.scatter(x, y, color = \"m\", marker = \"o\", s = 30)\n",
    " \n",
    "    # predicted response vector\n",
    "    y_pred = b[0] + b[1]*x\n",
    " \n",
    "    # plotting the regression line\n",
    "    plt.plot(x, y_pred, color = \"g\")\n",
    " \n",
    "    # putting labels\n",
    "    plt.xlabel('x')\n",
    "    plt.ylabel('y')\n",
    " \n",
    "    # function to show plot\n",
    "    plt.show()"
   ]
  },
  {
   "cell_type": "code",
   "execution_count": 5,
   "metadata": {},
   "outputs": [],
   "source": [
    "def plot_dataframe(dataframe):\n",
    "    dataframe.plot(x='Hours', y='Scores', style='o')  \n",
    "    plt.title('Hours vs Percentage')  \n",
    "    plt.xlabel('Hours Studied')  \n",
    "    plt.ylabel('Percentage Score')  \n",
    "    plt.show()\n",
    "    return "
   ]
  },
  {
   "cell_type": "code",
   "execution_count": 6,
   "metadata": {},
   "outputs": [
    {
     "name": "stdout",
     "output_type": "stream",
     "text": [
      "   Hours  Scores\n",
      "0    2.5      21\n",
      "1    5.1      47\n",
      "2    3.2      27\n",
      "3    8.5      75\n",
      "4    3.5      30\n",
      "5    1.5      20\n",
      "6    9.2      88\n",
      "7    5.5      60\n",
      "8    8.3      81\n",
      "9    2.7      25\n"
     ]
    },
    {
     "data": {
      "image/png": "[encoded data removed]",
      "text/plain": [
       "<Figure size 432x288 with 1 Axes>"
      ]
     },
     "metadata": {
      "needs_background": "light"
     },
     "output_type": "display_data"
    },
    {
     "name": "stdout",
     "output_type": "stream",
     "text": [
      "Estimated coefficients:\n",
      "b_0 = 2.4836734053732172 \n",
      "b_1 = 9.775803390787466\n"
     ]
    },
    {
     "data": {
      "image/png": "[encoded data removed]",
      "text/plain": [
       "<Figure size 432x288 with 1 Axes>"
      ]
     },
     "metadata": {
      "needs_background": "light"
     },
     "output_type": "display_data"
    },
    {
     "name": "stdout",
     "output_type": "stream",
     "text": [
      "9.25\n",
      "The predicted score if a student studies for 9.25 hrs/ day is: 92.90985477015727\n"
     ]
    }
   ],
   "source": [
    "def main():\n",
    "    #import dataset\n",
    "    x, y, dataframe = import_dataframe()\n",
    "    print(dataframe.head(10))\n",
    "\n",
    "    # Plotting the distribution of scores\n",
    "    plot_dataframe(dataframe)\n",
    "\n",
    "    # estimating coefficients\n",
    "    b = estimate_coef(dataframe, x, y)\n",
    "    \n",
    "    print(\"Estimated coefficients:\\nb_0 = {} \\nb_1 = {}\".format(b[0], b[1]))\n",
    "    \n",
    "    # plotting regression line\n",
    "    plot_regression_line(x, y, b)\n",
    "    \n",
    "    a = float(input())\n",
    "    \n",
    "    print(\"The predicted score if a student studies for {} hrs/ day is: {}\".format(a, b[0] + a*b[1]) )\n",
    "    \n",
    "\n",
    "if __name__ == \"__main__\":\n",
    "    main()"
   ]
  },
  {
   "cell_type": "code",
   "execution_count": null,
   "metadata": {},
   "outputs": [],
   "source": []
  }
 ],
 "metadata": {
  "kernelspec": {
   "display_name": "Python 3",
   "language": "python",
   "name": "python3"
  },
  "language_info": {
   "codemirror_mode": {
    "name": "ipython",
    "version": 3
   },
   "file_extension": ".py",
   "mimetype": "text/x-python",
   "name": "python",
   "nbconvert_exporter": "python",
   "pygments_lexer": "ipython3",
   "version": "3.8.5"
  }
 },
 "nbformat": 4,
 "nbformat_minor": 4
}
